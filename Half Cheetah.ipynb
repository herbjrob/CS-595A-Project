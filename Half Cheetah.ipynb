{
 "cells": [
  {
   "cell_type": "markdown",
   "metadata": {},
   "source": [
    "# Half Cheetah with NEAT brain"
   ]
  },
  {
   "cell_type": "markdown",
   "metadata": {},
   "source": [
    "## Imports"
   ]
  },
  {
   "cell_type": "code",
   "execution_count": 11,
   "metadata": {},
   "outputs": [],
   "source": [
    "import gym\n",
    "import random as r\n",
    "import os\n",
    "import neat\n",
    "import msvcrt as m\n",
    "from sys import exit\n",
    "#remember to start xming server by using \n",
    "#set DISPLAY=:0 \n",
    "#in the command line\n",
    "#Build the environment for the cheetah\n",
    "env = gym.make('HalfCheetah-v2') #This is a global definition\n",
    "\n",
    "#load the config file\n",
    "config_path = os.path.join('config.txt')"
   ]
  },
  {
   "cell_type": "markdown",
   "metadata": {},
   "source": [
    "## Functions to connect the brain to the environment, run the brain and assess the effectiveness"
   ]
  },
  {
   "cell_type": "code",
   "execution_count": 12,
   "metadata": {},
   "outputs": [],
   "source": [
    "def connect_brain(nLimbs, nCycles, net, render = False):\n",
    "    '''\n",
    "    Connect brain takes arguments:\n",
    "    number of limbs = 6 for cheetah sausage\n",
    "    number of cycles = run time for each NN to control the cheetah\n",
    "    net = the NN object\n",
    "    render = flag to render the simulation to screen    \n",
    "    \n",
    "    Connecting the brain effectively feeds the NN input nodes with the state of the environment, \n",
    "    and feeds the environment with the output nodes of the NN\n",
    "    '''\n",
    "    \n",
    "    #reseting the cheetah environment\n",
    "    env.reset()\n",
    "    \n",
    "    #initialise an empty set with the number of control inputs going to mujoco\n",
    "    x = [] \n",
    "    for i in range(nLimbs):\n",
    "        x.append(0)\n",
    "    \n",
    "    #After each step of the envronment running, a result is returned that contains:\n",
    "    #observation for the NN brain to see that is fed to the NN input\n",
    "    #reward = the distance traveled during that cycle of the simulation with a maximum goal\n",
    "    #Result needs to be initialised (with a set of controls set to 0) to be fed to the neural network\n",
    "    \n",
    "    result = env.step(x) \n",
    "    observation = result [0]\n",
    "    reward = result [1]\n",
    "    fitness = 0\n",
    "    \n",
    "    #control is the set of output nodes from the NN\n",
    "    control = net.activate(observation) #0th observation to initialise control\n",
    "    \n",
    "    for i in range(nCycles): \n",
    "        #The NN is activated by giving observation to the input nodes, and storing the output nodes in control\n",
    "        control = net.activate(observation)\n",
    "        \n",
    "        #Control needs to be set the the correct range\n",
    "        #the NN outputs a float between 0 and 1\n",
    "        #the environment takes a float between -1 and 1\n",
    "        for j in range(len(control)):\n",
    "            control[j] = control[j]*2 - 1\n",
    "        \n",
    "        #This loop creates a delay between the NN brain and the environment body.\n",
    "        #This simulates the natural delay between signal and action and allows \n",
    "        #commands to be completed before a new command is given.\n",
    "        for j in range(4): #stepping through multiple times to delay the NN\n",
    "            #output of the environment is stored and split into useable data\n",
    "            result = env.step(control) \n",
    "            reward = result [1]\n",
    "            observation = result[0]\n",
    "             \n",
    "            #reward is summed to make fitness; the total distance travelled in the given number of cycles\n",
    "            fitness = fitness + reward\n",
    "        \n",
    "            if render:\n",
    "                env.render()\n",
    "                \n",
    "    return fitness\n",
    "    \n",
    "    \n",
    "\n",
    "def new_pop(config_file):\n",
    "    '''\n",
    "    function to create a new population for assessment \n",
    "    config_file is used to set the initial state of the population\n",
    "    '''\n",
    "    \n",
    "    # Load configuration.\n",
    "    config = neat.Config(neat.DefaultGenome, neat.DefaultReproduction,\n",
    "                         neat.DefaultSpeciesSet, neat.DefaultStagnation,\n",
    "                         config_file) \n",
    "\n",
    "    # Create the population, which is the top-level object for a NEAT run.\n",
    "    p = neat.Population(config)\n",
    "\n",
    "    # Add a stdout reporter to show progress in the terminal.\n",
    "    p.add_reporter(neat.StdOutReporter(True))\n",
    "    stats = neat.StatisticsReporter()\n",
    "    p.add_reporter(stats)\n",
    "    p.add_reporter(neat.Checkpointer(5))\n",
    "    \n",
    "    return p\n",
    "    \n",
    "    \n",
    "\n",
    "#This is the fitness function\n",
    "def eval_genomes(genomes, config):\n",
    "    for genome_id, genome in genomes:\n",
    "        \n",
    "        limbs = len(env.action_space.sample())\n",
    "        cycles = 20\n",
    "        \n",
    "        #Builds the neural net from the genome\n",
    "        net = neat.nn.FeedForwardNetwork.create(genome, config)\n",
    "\n",
    "        genome.fitness = connect_brain(limbs, cycles, net)"
   ]
  },
  {
   "cell_type": "markdown",
   "metadata": {},
   "source": [
    "## Make a new population and run for n generations"
   ]
  },
  {
   "cell_type": "code",
   "execution_count": 13,
   "metadata": {},
   "outputs": [
    {
     "name": "stdout",
     "output_type": "stream",
     "text": [
      "\n",
      " ****** Running generation 0 ****** \n",
      "\n",
      "Population's average fitness: -38.56328 stdev: 25.31871\n",
      "Best fitness: 29.90996 - size: (12, 240) - species 1 - id 125\n",
      "Average adjusted fitness: 0.601\n",
      "Mean genetic distance 2.603, standard deviation 0.209\n",
      "Population of 300 members in 1 species:\n",
      "   ID   age  size  fitness  adj fit  stag\n",
      "  ====  ===  ====  =======  =======  ====\n",
      "     1    0   300     29.9    0.601     0\n",
      "Total extinctions: 0\n",
      "Generation time: 3.869 sec\n"
     ]
    },
    {
     "data": {
      "text/plain": [
       "<neat.genome.DefaultGenome at 0x219117ad320>"
      ]
     },
     "execution_count": 13,
     "metadata": {},
     "output_type": "execute_result"
    }
   ],
   "source": [
    "#number of generations\n",
    "n = 1 \n",
    "\n",
    "p = new_pop(config_path)\n",
    "p.run(eval_genomes, n)"
   ]
  },
  {
   "cell_type": "markdown",
   "metadata": {},
   "source": [
    "## Load the population from a checkpoint"
   ]
  },
  {
   "cell_type": "code",
   "execution_count": 14,
   "metadata": {},
   "outputs": [],
   "source": [
    "#Continue running from previous saved file\n",
    "\n",
    "checkpoint = 'neat-checkpoint-2099'\n",
    "\n",
    "config = neat.Config(neat.DefaultGenome, neat.DefaultReproduction,\n",
    "                         neat.DefaultSpeciesSet, neat.DefaultStagnation,\n",
    "                         config_path) \n",
    "\n",
    "p = neat.Checkpointer.restore_checkpoint(checkpoint)  \n",
    "\n",
    "# Add a stdout reporter to show progress in the terminal.\n",
    "p.add_reporter(neat.StdOutReporter(True))\n",
    "stats = neat.StatisticsReporter()\n",
    "p.add_reporter(stats)\n",
    "p.add_reporter(neat.Checkpointer(5))\n"
   ]
  },
  {
   "cell_type": "markdown",
   "metadata": {},
   "source": [
    "## Continue running the assessment of the loaded population"
   ]
  },
  {
   "cell_type": "code",
   "execution_count": 16,
   "metadata": {},
   "outputs": [
    {
     "name": "stdout",
     "output_type": "stream",
     "text": [
      "\n",
      " ****** Running generation 2099 ****** \n",
      "\n",
      "Population's average fitness: 52.39435 stdev: 61.68184\n",
      "Best fitness: 163.83488 - size: (11, 5) - species 189 - id 48\n",
      "Average adjusted fitness: 0.529\n",
      "Mean genetic distance 2.576, standard deviation 0.622\n",
      "Population of 235 members in 8 species:\n",
      "   ID   age  size  fitness  adj fit  stag\n",
      "  ====  ===  ====  =======  =======  ====\n",
      "   185   31    17    111.2    0.584     3\n",
      "   187   29    36    155.8    0.575     0\n",
      "   188   24    46    149.0    0.634     9\n",
      "   189    7    66    163.8    0.552     0\n",
      "   190    6    21    120.7    0.558     0\n",
      "   191    0    36    122.2    0.530     0\n",
      "   192    0     8     86.4    0.269     0\n",
      "   193    0     5       --       --     0\n",
      "Total extinctions: 0\n",
      "Generation time: 2.174 sec\n",
      "Saving checkpoint to neat-checkpoint-2099\n",
      "\n",
      "Best genome:\n",
      "Key: 48\n",
      "Fitness: 163.83488429912285\n",
      "Nodes:\n",
      "\t0 DefaultNodeGene(key=0, bias=-0.7956297172910975, response=1.0, activation=sigmoid, aggregation=sum)\n",
      "\t1 DefaultNodeGene(key=1, bias=-1.8719509637424652, response=0.9953948526947118, activation=sigmoid, aggregation=sum)\n",
      "\t2 DefaultNodeGene(key=2, bias=3.0343327675324656, response=1.0, activation=sigmoid, aggregation=sum)\n",
      "\t3 DefaultNodeGene(key=3, bias=-1.5509899324410565, response=1.0020070358255038, activation=sigmoid, aggregation=sum)\n",
      "\t4 DefaultNodeGene(key=4, bias=1.5223274677165377, response=0.9916784456409045, activation=sigmoid, aggregation=sum)\n",
      "\t5 DefaultNodeGene(key=5, bias=0.38893428652179124, response=1.0116128917005578, activation=sigmoid, aggregation=sum)\n",
      "\t110785 DefaultNodeGene(key=110785, bias=-0.9761865311093907, response=1.0, activation=sigmoid, aggregation=sum)\n",
      "\t111682 DefaultNodeGene(key=111682, bias=-0.3302647854520212, response=1.0067734257829037, activation=sigmoid, aggregation=sum)\n",
      "\t113993 DefaultNodeGene(key=113993, bias=0.7114716082532975, response=1.0, activation=sigmoid, aggregation=sum)\n",
      "\t114198 DefaultNodeGene(key=114198, bias=1.716743047445334, response=1.0, activation=sigmoid, aggregation=sum)\n",
      "\t116219 DefaultNodeGene(key=116219, bias=0.9248212252406767, response=1.0, activation=sigmoid, aggregation=sum)\n",
      "Connections:\n",
      "\tDefaultConnectionGene(key=(-8, 111682), weight=-0.11335910324317389, enabled=False)\n",
      "\tDefaultConnectionGene(key=(-7, 113993), weight=1.8076729178039233, enabled=False)\n",
      "\tDefaultConnectionGene(key=(-7, 114198), weight=-0.7078782268968707, enabled=False)\n",
      "\tDefaultConnectionGene(key=(-3, 0), weight=-14.662639057516865, enabled=True)\n",
      "\tDefaultConnectionGene(key=(-3, 1), weight=-9.96455388297395, enabled=True)\n",
      "\tDefaultConnectionGene(key=(-3, 4), weight=6.120151762117199, enabled=True)\n",
      "\tDefaultConnectionGene(key=(0, 114198), weight=-1.403033191088264, enabled=False)\n",
      "\tDefaultConnectionGene(key=(0, 116219), weight=1.5473490876648266, enabled=True)\n",
      "\tDefaultConnectionGene(key=(116219, 114198), weight=0.15721479692552998, enabled=True)\n"
     ]
    }
   ],
   "source": [
    "# Run for up to n generations.\n",
    "n = 1\n",
    "\n",
    "winner = p.run(eval_genomes, n)\n",
    "\n",
    "\n",
    "# Display the winning genome.\n",
    "print('\\nBest genome:\\n{!s}'.format(p.best_genome))  "
   ]
  },
  {
   "cell_type": "markdown",
   "metadata": {},
   "source": [
    "## Display the genome with the best fitness"
   ]
  },
  {
   "cell_type": "code",
   "execution_count": null,
   "metadata": {},
   "outputs": [
    {
     "name": "stdout",
     "output_type": "stream",
     "text": [
      "Creating window glfw\n"
     ]
    }
   ],
   "source": [
    "\n",
    "best = p.best_genome\n",
    "winner_net = neat.nn.FeedForwardNetwork.create(best, config)\n",
    "connect_brain(6, 10000, winner_net, True)\n",
    "env.close()"
   ]
  },
  {
   "cell_type": "markdown",
   "metadata": {},
   "source": [
    "## Test box"
   ]
  },
  {
   "cell_type": "code",
   "execution_count": null,
   "metadata": {},
   "outputs": [],
   "source": [
    "import gym\n",
    "import random as r\n",
    "\n",
    "env = gym.make('HalfCheetah-v2') #This is a global definition to use the neural network junk\n",
    "env.reset()\n",
    "for i in range (5000):\n",
    "    if i % 20 < 10:\n",
    "        control = [1,1,1,1,1,1]\n",
    "    else:\n",
    "        control = [-1,-1,-1,-1,-1,-1]\n",
    "    #control = [1,1,1,1,1,1]\n",
    "    #control = [0,0,0,0,0,0]\n",
    "    new = []\n",
    "    out = env.step(control)[0]\n",
    "    for j in out:\n",
    "        \n",
    "        j = float(\"{0:.2f}\".format(j))\n",
    "        new.append(j)\n",
    "    print (new)\n",
    "    env.render()"
   ]
  }
 ],
 "metadata": {
  "kernelspec": {
   "display_name": "Python 3",
   "language": "python",
   "name": "python3"
  },
  "language_info": {
   "codemirror_mode": {
    "name": "ipython",
    "version": 3
   },
   "file_extension": ".py",
   "mimetype": "text/x-python",
   "name": "python",
   "nbconvert_exporter": "python",
   "pygments_lexer": "ipython3",
   "version": "3.7.1"
  }
 },
 "nbformat": 4,
 "nbformat_minor": 2
}
